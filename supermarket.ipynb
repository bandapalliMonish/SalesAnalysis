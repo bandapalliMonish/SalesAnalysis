{
 "cells": [
  {
   "cell_type": "code",
   "execution_count": 23,
   "metadata": {},
   "outputs": [],
   "source": [
    "import pandas as pd\n"
   ]
  },
  {
   "cell_type": "code",
   "execution_count": 24,
   "metadata": {},
   "outputs": [],
   "source": [
    "sales_df = pd.read_csv(\"Data Sciene Internship Assignment Datasets/sales.csv\")\n",
    "promotion_df = pd.read_csv(\"Data Sciene Internship Assignment Datasets/promotion.csv\")\n",
    "items_df = pd.read_csv(\"Data Sciene Internship Assignment Datasets/item.csv\")\n",
    "supermarkets_df = pd.read_csv(\"Data Sciene Internship Assignment Datasets/supermarkets.csv\")\n"
   ]
  },
  {
   "cell_type": "code",
   "execution_count": 25,
   "metadata": {},
   "outputs": [
    {
     "name": "stdout",
     "output_type": "stream",
     "text": [
      "<class 'pandas.core.frame.DataFrame'>\n",
      "RangeIndex: 1048575 entries, 0 to 1048574\n",
      "Data columns (total 11 columns):\n",
      " #   Column       Non-Null Count    Dtype  \n",
      "---  ------       --------------    -----  \n",
      " 0   code         1048575 non-null  int64  \n",
      " 1   amount       1048575 non-null  float64\n",
      " 2   units        1048575 non-null  int64  \n",
      " 3   time         1048575 non-null  int64  \n",
      " 4   province     1048575 non-null  int64  \n",
      " 5   week         1048575 non-null  int64  \n",
      " 6   customerId   1048575 non-null  int64  \n",
      " 7   supermarket  1048575 non-null  int64  \n",
      " 8   basket       1048575 non-null  int64  \n",
      " 9   day          1048575 non-null  int64  \n",
      " 10  voucher      1048575 non-null  int64  \n",
      "dtypes: float64(1), int64(10)\n",
      "memory usage: 88.0 MB\n",
      "None\n",
      "         code  amount  units  time  province  week  customerId  supermarket  \\\n",
      "0  7680850106    0.80      1  1100         2     1      125434          244   \n",
      "1  3620000470    3.59      1  1100         2     1      125434          244   \n",
      "2  1800028064    2.25      1  1137         2     1      108320          244   \n",
      "3  9999985067    0.85      1  1148         2     1      162016          244   \n",
      "4  9999985131    2.19      1  1323         2     1       89437          244   \n",
      "\n",
      "   basket  day  voucher  \n",
      "0       1    1        0  \n",
      "1       1    1        0  \n",
      "2       2    1        0  \n",
      "3       3    1        0  \n",
      "4       4    1        0  \n",
      "<class 'pandas.core.frame.DataFrame'>\n",
      "RangeIndex: 351372 entries, 0 to 351371\n",
      "Data columns (total 6 columns):\n",
      " #   Column        Non-Null Count   Dtype \n",
      "---  ------        --------------   ----- \n",
      " 0   code          351372 non-null  int64 \n",
      " 1   supermarkets  351372 non-null  int64 \n",
      " 2   week          351372 non-null  int64 \n",
      " 3   feature       351372 non-null  object\n",
      " 4   display       351372 non-null  object\n",
      " 5   province      351372 non-null  int64 \n",
      "dtypes: int64(4), object(2)\n",
      "memory usage: 16.1+ MB\n",
      "None\n",
      "         code  supermarkets  week                feature            display  \\\n",
      "0  2700042240           285    91         Not on Feature  Mid-Aisle End Cap   \n",
      "1  2700042292           285    92  Interior Page Feature     Not on Display   \n",
      "2  2700042274           285    92  Interior Page Feature     Not on Display   \n",
      "3  2700042273           285    92  Interior Page Feature     Not on Display   \n",
      "4  2700042254           285    92  Interior Page Feature     Not on Display   \n",
      "\n",
      "   province  \n",
      "0         2  \n",
      "1         2  \n",
      "2         2  \n",
      "3         2  \n",
      "4         2  \n",
      "<class 'pandas.core.frame.DataFrame'>\n",
      "RangeIndex: 927 entries, 0 to 926\n",
      "Data columns (total 5 columns):\n",
      " #   Column      Non-Null Count  Dtype \n",
      "---  ------      --------------  ----- \n",
      " 0   code        927 non-null    int64 \n",
      " 1   descrption  927 non-null    object\n",
      " 2   type        927 non-null    object\n",
      " 3   brand       927 non-null    object\n",
      " 4   size        927 non-null    object\n",
      "dtypes: int64(1), object(4)\n",
      "memory usage: 36.3+ KB\n",
      "None\n",
      "         code                     descrption    type        brand      size\n",
      "0  3000005040  AUNT JEM ORIGINAL PANCAKE MIX  Type 1  Aunt Jemima      2 LB\n",
      "1  3000005070      A/JEM COMPLETE PANCAKE MI  Type 1  Aunt Jemima  32    OZ\n",
      "2  3000005300      AJ BUTTERMILK PANCAKE MIX  Type 1  Aunt Jemima     32 OZ\n",
      "3  3000005350       A J BTRMLK COMP PNCK MIX  Type 1  Aunt Jemima      1 LB\n",
      "4  1600015760      BC PANCAKE MIX BUTTERMILK  Type 1     Bisquick   6.75 OZ\n",
      "<class 'pandas.core.frame.DataFrame'>\n",
      "RangeIndex: 387 entries, 0 to 386\n",
      "Data columns (total 2 columns):\n",
      " #   Column          Non-Null Count  Dtype\n",
      "---  ------          --------------  -----\n",
      " 0   supermarket_No  387 non-null    int64\n",
      " 1   postal-code     387 non-null    int64\n",
      "dtypes: int64(2)\n",
      "memory usage: 6.2 KB\n",
      "None\n",
      "   supermarket_No  postal-code\n",
      "0             199        30319\n",
      "1             200        30134\n",
      "2             201        30066\n",
      "3             202        31093\n",
      "4             203        30542\n"
     ]
    }
   ],
   "source": [
    "print(sales_df.info())\n",
    "print(sales_df.head())\n",
    "\n",
    "print(promotion_df.info())\n",
    "print(promotion_df.head())\n",
    "\n",
    "print(items_df.info())\n",
    "print(items_df.head())\n",
    "\n",
    "print(supermarkets_df.info())\n",
    "print(supermarkets_df.head())\n"
   ]
  },
  {
   "cell_type": "code",
   "execution_count": 26,
   "metadata": {},
   "outputs": [
    {
     "name": "stdout",
     "output_type": "stream",
     "text": [
      "code           0\n",
      "amount         0\n",
      "units          0\n",
      "time           0\n",
      "province       0\n",
      "week           0\n",
      "customerId     0\n",
      "supermarket    0\n",
      "basket         0\n",
      "day            0\n",
      "voucher        0\n",
      "dtype: int64\n",
      "code            0\n",
      "supermarkets    0\n",
      "week            0\n",
      "feature         0\n",
      "display         0\n",
      "province        0\n",
      "dtype: int64\n",
      "code          0\n",
      "descrption    0\n",
      "type          0\n",
      "brand         0\n",
      "size          0\n",
      "dtype: int64\n",
      "supermarket_No    0\n",
      "postal-code       0\n",
      "dtype: int64\n"
     ]
    }
   ],
   "source": [
    "print(sales_df.isnull().sum())\n",
    "print(promotion_df.isnull().sum())\n",
    "print(items_df.isnull().sum())\n",
    "print(supermarkets_df.isnull().sum())\n"
   ]
  },
  {
   "cell_type": "code",
   "execution_count": 27,
   "metadata": {},
   "outputs": [
    {
     "name": "stdout",
     "output_type": "stream",
     "text": [
      "0\n",
      "0\n",
      "0\n",
      "0\n"
     ]
    }
   ],
   "source": [
    "print(sales_df.duplicated().sum())\n",
    "print(promotion_df.duplicated().sum())\n",
    "print(items_df.duplicated().sum())\n",
    "print(supermarkets_df.duplicated().sum())\n"
   ]
  },
  {
   "cell_type": "code",
   "execution_count": 28,
   "metadata": {},
   "outputs": [],
   "source": [
    "# For instance, check for missing values and handle them (drop or fill with appropriate values)\n",
    "items_df = items_df.dropna()  # or use items_df.fillna('Unknown') based on the data\n",
    "sales_df = sales_df.dropna(subset=['amount', 'units', 'code'])  # Drop rows where critical fields are missing\n",
    "promotion_df = promotion_df.dropna(subset=['code', 'supermarkets'])  # Drop rows where critical fields are missing\n",
    "supermarkets_df = supermarkets_df.dropna(subset=['supermarket_No'])"
   ]
  },
  {
   "cell_type": "code",
   "execution_count": 29,
   "metadata": {},
   "outputs": [],
   "source": [
    "items_df.columns = items_df.columns.str.strip().str.lower()  # Clean column names\n",
    "sales_df.columns = sales_df.columns.str.strip().str.lower()\n",
    "promotion_df.columns = promotion_df.columns.str.strip().str.lower()\n",
    "supermarkets_df.columns = supermarkets_df.columns.str.strip().str.lower()"
   ]
  },
  {
   "cell_type": "code",
   "execution_count": 33,
   "metadata": {},
   "outputs": [],
   "source": [
    "# Step 4: Standardize column names for consistency\n",
    "for df in [items_df, sales_df, promotion_df, supermarkets_df]:\n",
    "    df.columns = df.columns.str.strip().str.lower().str.replace('_', '')\n",
    "\n",
    "# Match similar column names across all dataframes\n",
    "column_mapping = {\n",
    "    'supermarketno': 'supermarket',\n",
    "    'supermarkets': 'supermarket',\n",
    "    'descrption': 'description'\n",
    "}\n",
    "for df in [items_df, sales_df, promotion_df, supermarkets_df]:\n",
    "    df.rename(columns=column_mapping, inplace=True)"
   ]
  },
  {
   "cell_type": "code",
   "execution_count": 34,
   "metadata": {},
   "outputs": [
    {
     "name": "stdout",
     "output_type": "stream",
     "text": [
      "Index(['code', 'description', 'type', 'brand', 'size'], dtype='object')\n",
      "Index(['code', 'amount', 'units', 'time', 'province', 'week', 'customerid',\n",
      "       'supermarket', 'basket', 'day', 'voucher'],\n",
      "      dtype='object')\n",
      "Index(['code', 'supermarket', 'week', 'feature', 'display', 'province'], dtype='object')\n",
      "Index(['supermarket', 'postal-code'], dtype='object')\n"
     ]
    }
   ],
   "source": [
    "for df in [items_df, sales_df, promotion_df, supermarkets_df]:\n",
    "    print(df.columns)"
   ]
  },
  {
   "cell_type": "code",
   "execution_count": 36,
   "metadata": {},
   "outputs": [
    {
     "name": "stdout",
     "output_type": "stream",
     "text": [
      "0          1100\n",
      "1          1100\n",
      "2          1137\n",
      "3          1148\n",
      "4          1323\n",
      "           ... \n",
      "1048570    1307\n",
      "1048571    1307\n",
      "1048572    1410\n",
      "1048573    1415\n",
      "1048574    1415\n",
      "Name: time, Length: 1048575, dtype: int64\n"
     ]
    }
   ],
   "source": [
    "print(sales_df['time'])"
   ]
  },
  {
   "cell_type": "code",
   "execution_count": 37,
   "metadata": {},
   "outputs": [],
   "source": [
    "# Ensure all time values are 4 digits (e.g., '8' becomes '0800')\n",
    "sales_df['time'] = sales_df['time'].astype(str).str.zfill(4)\n",
    "\n",
    "# Convert the time column to HH:MM format\n",
    "sales_df['time'] = pd.to_datetime(sales_df['time'], format='%H%M').dt.strftime('%H:%M')\n",
    "\n",
    "# Convert 'week' in promotion to numeric if needed\n",
    "promotion_df['week'] = pd.to_numeric(promotion_df['week'], errors='coerce')\n",
    "\n",
    "# Convert 'amount' and 'units' in sales to numeric\n",
    "sales_df['amount'] = pd.to_numeric(sales_df['amount'], errors='coerce')\n",
    "sales_df['units'] = pd.to_numeric(sales_df['units'], errors='coerce')"
   ]
  },
  {
   "cell_type": "code",
   "execution_count": 38,
   "metadata": {},
   "outputs": [
    {
     "name": "stdout",
     "output_type": "stream",
     "text": [
      "Index(['code', 'amount', 'units', 'time', 'province', 'week', 'customerid',\n",
      "       'supermarket', 'basket', 'day', 'voucher', 'description', 'type',\n",
      "       'brand', 'size'],\n",
      "      dtype='object')\n"
     ]
    }
   ],
   "source": [
    "# Merging sales data with item data based on 'code'\n",
    "sales_items_df = pd.merge(sales_df, items_df, on='code', how='left')\n",
    "\n",
    "print(sales_items_df.columns)\n"
   ]
  },
  {
   "cell_type": "code",
   "execution_count": 39,
   "metadata": {},
   "outputs": [
    {
     "name": "stdout",
     "output_type": "stream",
     "text": [
      "Index(['code', 'amount', 'units', 'time', 'province_x', 'week_x', 'customerid',\n",
      "       'supermarket', 'basket', 'day', 'voucher', 'description', 'type',\n",
      "       'brand', 'size', 'week_y', 'feature', 'display', 'province_y'],\n",
      "      dtype='object')\n"
     ]
    }
   ],
   "source": [
    "# Merging sales data with promotions\n",
    "sales_promotion_df = pd.merge(sales_items_df, promotion_df, on=['code', 'supermarket'], how='left')\n",
    "print(sales_promotion_df.columns)"
   ]
  },
  {
   "cell_type": "code",
   "execution_count": 40,
   "metadata": {},
   "outputs": [],
   "source": [
    "\n",
    "# Merging with supermarket info\n",
    "final_df = pd.merge(sales_promotion_df, supermarkets_df, on='supermarket', how='left')\n"
   ]
  },
  {
   "cell_type": "code",
   "execution_count": 41,
   "metadata": {},
   "outputs": [
    {
     "name": "stdout",
     "output_type": "stream",
     "text": [
      "Data cleaning and transformation complete.\n"
     ]
    }
   ],
   "source": [
    "# For example, create a new column for sales revenue (amount * units)\n",
    "final_df['revenue'] = final_df['amount'] * final_df['units']\n",
    "\n",
    "# Step 8: Save cleaned and transformed data to a new CSV or DataFrame\n",
    "final_df.to_csv('cleaned_sales_data.csv', index=False)\n",
    "\n",
    "print(\"Data cleaning and transformation complete.\")"
   ]
  },
  {
   "cell_type": "code",
   "execution_count": 21,
   "metadata": {},
   "outputs": [
    {
     "data": {
      "image/png": "[encoded data removed]",
      "text/plain": [
       "<Figure size 640x480 with 1 Axes>"
      ]
     },
     "metadata": {},
     "output_type": "display_data"
    }
   ],
   "source": [
    "import matplotlib.pyplot as plt\n",
    "\n",
    "df = pd.read_csv(\"cleaned_sales_data.csv\")\n",
    "df[\"date\"] = pd.to_datetime(df[\"date\"])\n",
    "df.groupby(df[\"date\"].dt.month)[\"revenue\"].sum().plot(kind=\"line\")\n",
    "\n",
    "plt.title(\"Monthly Sales Trend\")\n",
    "plt.xlabel(\"Month\")\n",
    "plt.ylabel(\"Total Sales Revenue\")\n",
    "plt.show()"
   ]
  }
 ],
 "metadata": {
  "kernelspec": {
   "display_name": "Python 3",
   "language": "python",
   "name": "python3"
  },
  "language_info": {
   "codemirror_mode": {
    "name": "ipython",
    "version": 3
   },
   "file_extension": ".py",
   "mimetype": "text/x-python",
   "name": "python",
   "nbconvert_exporter": "python",
   "pygments_lexer": "ipython3",
   "version": "3.10.6"
  }
 },
 "nbformat": 4,
 "nbformat_minor": 2
}
